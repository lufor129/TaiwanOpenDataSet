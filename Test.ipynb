{
 "cells": [
  {
   "cell_type": "code",
   "execution_count": 5,
   "metadata": {},
   "outputs": [],
   "source": [
    "import requests\n",
    "from lxml import etree\n",
    "from selenium import webdriver"
   ]
  },
  {
   "cell_type": "code",
   "execution_count": 20,
   "metadata": {},
   "outputs": [
    {
     "name": "stdout",
     "output_type": "stream",
     "text": [
      "https://data.kinmen.gov.tw/Cus_OpenData_DealData.aspx?s=5B7D022B7B2A81BA ['xml', 'csv', 'json', 'xls']\n",
      "https://data.kinmen.gov.tw/Cus_OpenData_DealData.aspx?s=6955A893D911FF23 ['Link']\n",
      "https://data.kinmen.gov.tw/Cus_OpenData_DealData.aspx?s=5FFD3F069D988527 ['Link']\n",
      "https://data.kinmen.gov.tw/Cus_OpenData_DealData.aspx?s=16081B8F505ABB7B ['Link']\n",
      "https://data.kinmen.gov.tw/Cus_OpenData_DealData.aspx?s=7FAD35606C219599 ['Link']\n",
      "https://data.kinmen.gov.tw/Cus_OpenData_DealData.aspx?s=74963F5F05BDB4FB ['Link']\n",
      "https://data.kinmen.gov.tw/Cus_OpenData_DealData.aspx?s=07F0E381A7BA538F ['csv', 'csv', 'csv', 'csv', 'csv']\n",
      "https://data.kinmen.gov.tw/Cus_OpenData_DealData.aspx?s=3788E6E04BC17563 ['xls', 'xml', 'csv', 'json']\n",
      "https://data.kinmen.gov.tw/Cus_OpenData_DealData.aspx?s=07ACE2E316EEE218 ['xls', 'xml', 'csv', 'json']\n",
      "https://data.kinmen.gov.tw/Cus_OpenData_DealData.aspx?s=46FC5BBFDC3C7585 ['xml', 'csv', 'json', 'xls']\n"
     ]
    }
   ],
   "source": [
    "driver = webdriver.Chrome()\n",
    "headers ={\n",
    "    \"User-Agent\":\"Mozilla/5.0 (X11; Linux x86_64) AppleWebKit/537.36 (KHTML, like Gecko) Chrome/51.0.2704.103 Safari/537.36\",\n",
    "}\n",
    "url = \"https://data.kinmen.gov.tw/Cus_OpenData_Default.aspx?o=4&Page={}\"\n",
    "driver.get(url.format(1))\n",
    "totalpage = driver.find_element_by_xpath('//span[@id=\"ContentPlaceHolder1_lblTotalPage\"]').text\n",
    "# int(totalpage)+1\n",
    "for i in range(1,2):\n",
    "    driver.get(url.format(i))\n",
    "    blocks = driver.find_elements_by_xpath('//div[@class=\"data_list\"]/ul/li')\n",
    "    for block in blocks:\n",
    "        link = block.find_element_by_xpath(\".//h4/a\").get_attribute('href')\n",
    "        format_ = block.find_elements_by_xpath(\".//ol/li\")\n",
    "        format_list = []\n",
    "        for format in format_:\n",
    "            format_list.append(format.get_attribute(\"class\"))\n",
    "        print(link,format_list)\n",
    "        "
   ]
  },
  {
   "cell_type": "code",
   "execution_count": null,
   "metadata": {},
   "outputs": [],
   "source": []
  }
 ],
 "metadata": {
  "kernelspec": {
   "display_name": "Python 3",
   "language": "python",
   "name": "python3"
  },
  "language_info": {
   "codemirror_mode": {
    "name": "ipython",
    "version": 3
   },
   "file_extension": ".py",
   "mimetype": "text/x-python",
   "name": "python",
   "nbconvert_exporter": "python",
   "pygments_lexer": "ipython3",
   "version": "3.6.6"
  }
 },
 "nbformat": 4,
 "nbformat_minor": 2
}
